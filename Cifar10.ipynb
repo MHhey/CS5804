{
  "nbformat": 4,
  "nbformat_minor": 0,
  "metadata": {
    "colab": {
      "provenance": [],
      "gpuType": "T4"
    },
    "kernelspec": {
      "name": "python3",
      "display_name": "Python 3"
    },
    "language_info": {
      "name": "python"
    },
    "accelerator": "GPU",
    "widgets": {
      "application/vnd.jupyter.widget-state+json": {
        "6062964183d24b8fb34cc58195cf505e": {
          "model_module": "@jupyter-widgets/controls",
          "model_name": "HBoxModel",
          "model_module_version": "1.5.0",
          "state": {
            "_dom_classes": [],
            "_model_module": "@jupyter-widgets/controls",
            "_model_module_version": "1.5.0",
            "_model_name": "HBoxModel",
            "_view_count": null,
            "_view_module": "@jupyter-widgets/controls",
            "_view_module_version": "1.5.0",
            "_view_name": "HBoxView",
            "box_style": "",
            "children": [
              "IPY_MODEL_6f6b0f598bcc4206911b5d48cd4bade8",
              "IPY_MODEL_6ff96d784bcc4a6d975b18677e090513",
              "IPY_MODEL_508faf007eff4669ba806951fcca3ff5"
            ],
            "layout": "IPY_MODEL_be57f482a2a4434e82a1475760ee0b98"
          }
        },
        "6f6b0f598bcc4206911b5d48cd4bade8": {
          "model_module": "@jupyter-widgets/controls",
          "model_name": "HTMLModel",
          "model_module_version": "1.5.0",
          "state": {
            "_dom_classes": [],
            "_model_module": "@jupyter-widgets/controls",
            "_model_module_version": "1.5.0",
            "_model_name": "HTMLModel",
            "_view_count": null,
            "_view_module": "@jupyter-widgets/controls",
            "_view_module_version": "1.5.0",
            "_view_name": "HTMLView",
            "description": "",
            "description_tooltip": null,
            "layout": "IPY_MODEL_f0530cabe5df45db9008092eaad57d33",
            "placeholder": "​",
            "style": "IPY_MODEL_62a809809d2a416a896536271b00014f",
            "value": "Dl Completed...: 100%"
          }
        },
        "6ff96d784bcc4a6d975b18677e090513": {
          "model_module": "@jupyter-widgets/controls",
          "model_name": "FloatProgressModel",
          "model_module_version": "1.5.0",
          "state": {
            "_dom_classes": [],
            "_model_module": "@jupyter-widgets/controls",
            "_model_module_version": "1.5.0",
            "_model_name": "FloatProgressModel",
            "_view_count": null,
            "_view_module": "@jupyter-widgets/controls",
            "_view_module_version": "1.5.0",
            "_view_name": "ProgressView",
            "bar_style": "success",
            "description": "",
            "description_tooltip": null,
            "layout": "IPY_MODEL_8840539e8cfe4e57922ef690c497343d",
            "max": 1,
            "min": 0,
            "orientation": "horizontal",
            "style": "IPY_MODEL_651b55867ee34a848796425aeef248d4",
            "value": 1
          }
        },
        "508faf007eff4669ba806951fcca3ff5": {
          "model_module": "@jupyter-widgets/controls",
          "model_name": "HTMLModel",
          "model_module_version": "1.5.0",
          "state": {
            "_dom_classes": [],
            "_model_module": "@jupyter-widgets/controls",
            "_model_module_version": "1.5.0",
            "_model_name": "HTMLModel",
            "_view_count": null,
            "_view_module": "@jupyter-widgets/controls",
            "_view_module_version": "1.5.0",
            "_view_name": "HTMLView",
            "description": "",
            "description_tooltip": null,
            "layout": "IPY_MODEL_5391f3ff2e4045189c26cf99a282e809",
            "placeholder": "​",
            "style": "IPY_MODEL_efbb57da12a048beb45005cd194da225",
            "value": " 1/1 [01:39&lt;00:00, 44.93s/ url]"
          }
        },
        "be57f482a2a4434e82a1475760ee0b98": {
          "model_module": "@jupyter-widgets/base",
          "model_name": "LayoutModel",
          "model_module_version": "1.2.0",
          "state": {
            "_model_module": "@jupyter-widgets/base",
            "_model_module_version": "1.2.0",
            "_model_name": "LayoutModel",
            "_view_count": null,
            "_view_module": "@jupyter-widgets/base",
            "_view_module_version": "1.2.0",
            "_view_name": "LayoutView",
            "align_content": null,
            "align_items": null,
            "align_self": null,
            "border": null,
            "bottom": null,
            "display": null,
            "flex": null,
            "flex_flow": null,
            "grid_area": null,
            "grid_auto_columns": null,
            "grid_auto_flow": null,
            "grid_auto_rows": null,
            "grid_column": null,
            "grid_gap": null,
            "grid_row": null,
            "grid_template_areas": null,
            "grid_template_columns": null,
            "grid_template_rows": null,
            "height": null,
            "justify_content": null,
            "justify_items": null,
            "left": null,
            "margin": null,
            "max_height": null,
            "max_width": null,
            "min_height": null,
            "min_width": null,
            "object_fit": null,
            "object_position": null,
            "order": null,
            "overflow": null,
            "overflow_x": null,
            "overflow_y": null,
            "padding": null,
            "right": null,
            "top": null,
            "visibility": null,
            "width": null
          }
        },
        "f0530cabe5df45db9008092eaad57d33": {
          "model_module": "@jupyter-widgets/base",
          "model_name": "LayoutModel",
          "model_module_version": "1.2.0",
          "state": {
            "_model_module": "@jupyter-widgets/base",
            "_model_module_version": "1.2.0",
            "_model_name": "LayoutModel",
            "_view_count": null,
            "_view_module": "@jupyter-widgets/base",
            "_view_module_version": "1.2.0",
            "_view_name": "LayoutView",
            "align_content": null,
            "align_items": null,
            "align_self": null,
            "border": null,
            "bottom": null,
            "display": null,
            "flex": null,
            "flex_flow": null,
            "grid_area": null,
            "grid_auto_columns": null,
            "grid_auto_flow": null,
            "grid_auto_rows": null,
            "grid_column": null,
            "grid_gap": null,
            "grid_row": null,
            "grid_template_areas": null,
            "grid_template_columns": null,
            "grid_template_rows": null,
            "height": null,
            "justify_content": null,
            "justify_items": null,
            "left": null,
            "margin": null,
            "max_height": null,
            "max_width": null,
            "min_height": null,
            "min_width": null,
            "object_fit": null,
            "object_position": null,
            "order": null,
            "overflow": null,
            "overflow_x": null,
            "overflow_y": null,
            "padding": null,
            "right": null,
            "top": null,
            "visibility": null,
            "width": null
          }
        },
        "62a809809d2a416a896536271b00014f": {
          "model_module": "@jupyter-widgets/controls",
          "model_name": "DescriptionStyleModel",
          "model_module_version": "1.5.0",
          "state": {
            "_model_module": "@jupyter-widgets/controls",
            "_model_module_version": "1.5.0",
            "_model_name": "DescriptionStyleModel",
            "_view_count": null,
            "_view_module": "@jupyter-widgets/base",
            "_view_module_version": "1.2.0",
            "_view_name": "StyleView",
            "description_width": ""
          }
        },
        "8840539e8cfe4e57922ef690c497343d": {
          "model_module": "@jupyter-widgets/base",
          "model_name": "LayoutModel",
          "model_module_version": "1.2.0",
          "state": {
            "_model_module": "@jupyter-widgets/base",
            "_model_module_version": "1.2.0",
            "_model_name": "LayoutModel",
            "_view_count": null,
            "_view_module": "@jupyter-widgets/base",
            "_view_module_version": "1.2.0",
            "_view_name": "LayoutView",
            "align_content": null,
            "align_items": null,
            "align_self": null,
            "border": null,
            "bottom": null,
            "display": null,
            "flex": null,
            "flex_flow": null,
            "grid_area": null,
            "grid_auto_columns": null,
            "grid_auto_flow": null,
            "grid_auto_rows": null,
            "grid_column": null,
            "grid_gap": null,
            "grid_row": null,
            "grid_template_areas": null,
            "grid_template_columns": null,
            "grid_template_rows": null,
            "height": null,
            "justify_content": null,
            "justify_items": null,
            "left": null,
            "margin": null,
            "max_height": null,
            "max_width": null,
            "min_height": null,
            "min_width": null,
            "object_fit": null,
            "object_position": null,
            "order": null,
            "overflow": null,
            "overflow_x": null,
            "overflow_y": null,
            "padding": null,
            "right": null,
            "top": null,
            "visibility": null,
            "width": "20px"
          }
        },
        "651b55867ee34a848796425aeef248d4": {
          "model_module": "@jupyter-widgets/controls",
          "model_name": "ProgressStyleModel",
          "model_module_version": "1.5.0",
          "state": {
            "_model_module": "@jupyter-widgets/controls",
            "_model_module_version": "1.5.0",
            "_model_name": "ProgressStyleModel",
            "_view_count": null,
            "_view_module": "@jupyter-widgets/base",
            "_view_module_version": "1.2.0",
            "_view_name": "StyleView",
            "bar_color": null,
            "description_width": ""
          }
        },
        "5391f3ff2e4045189c26cf99a282e809": {
          "model_module": "@jupyter-widgets/base",
          "model_name": "LayoutModel",
          "model_module_version": "1.2.0",
          "state": {
            "_model_module": "@jupyter-widgets/base",
            "_model_module_version": "1.2.0",
            "_model_name": "LayoutModel",
            "_view_count": null,
            "_view_module": "@jupyter-widgets/base",
            "_view_module_version": "1.2.0",
            "_view_name": "LayoutView",
            "align_content": null,
            "align_items": null,
            "align_self": null,
            "border": null,
            "bottom": null,
            "display": null,
            "flex": null,
            "flex_flow": null,
            "grid_area": null,
            "grid_auto_columns": null,
            "grid_auto_flow": null,
            "grid_auto_rows": null,
            "grid_column": null,
            "grid_gap": null,
            "grid_row": null,
            "grid_template_areas": null,
            "grid_template_columns": null,
            "grid_template_rows": null,
            "height": null,
            "justify_content": null,
            "justify_items": null,
            "left": null,
            "margin": null,
            "max_height": null,
            "max_width": null,
            "min_height": null,
            "min_width": null,
            "object_fit": null,
            "object_position": null,
            "order": null,
            "overflow": null,
            "overflow_x": null,
            "overflow_y": null,
            "padding": null,
            "right": null,
            "top": null,
            "visibility": null,
            "width": null
          }
        },
        "efbb57da12a048beb45005cd194da225": {
          "model_module": "@jupyter-widgets/controls",
          "model_name": "DescriptionStyleModel",
          "model_module_version": "1.5.0",
          "state": {
            "_model_module": "@jupyter-widgets/controls",
            "_model_module_version": "1.5.0",
            "_model_name": "DescriptionStyleModel",
            "_view_count": null,
            "_view_module": "@jupyter-widgets/base",
            "_view_module_version": "1.2.0",
            "_view_name": "StyleView",
            "description_width": ""
          }
        },
        "c2695cfa642546b998dabcdbf3d42c54": {
          "model_module": "@jupyter-widgets/controls",
          "model_name": "HBoxModel",
          "model_module_version": "1.5.0",
          "state": {
            "_dom_classes": [],
            "_model_module": "@jupyter-widgets/controls",
            "_model_module_version": "1.5.0",
            "_model_name": "HBoxModel",
            "_view_count": null,
            "_view_module": "@jupyter-widgets/controls",
            "_view_module_version": "1.5.0",
            "_view_name": "HBoxView",
            "box_style": "",
            "children": [
              "IPY_MODEL_50417f7d62254686874ca786aadbac9e",
              "IPY_MODEL_d225b0ac4ab5437485d8ba2ca90c8289",
              "IPY_MODEL_b2582c5a2a7a493eb02e7c2d5dadf1ba"
            ],
            "layout": "IPY_MODEL_7a8714c1eb994fa0a308e98b8c263812"
          }
        },
        "50417f7d62254686874ca786aadbac9e": {
          "model_module": "@jupyter-widgets/controls",
          "model_name": "HTMLModel",
          "model_module_version": "1.5.0",
          "state": {
            "_dom_classes": [],
            "_model_module": "@jupyter-widgets/controls",
            "_model_module_version": "1.5.0",
            "_model_name": "HTMLModel",
            "_view_count": null,
            "_view_module": "@jupyter-widgets/controls",
            "_view_module_version": "1.5.0",
            "_view_name": "HTMLView",
            "description": "",
            "description_tooltip": null,
            "layout": "IPY_MODEL_13b99a4f08cd4e8d96b75ff33046ec93",
            "placeholder": "​",
            "style": "IPY_MODEL_de67f7dff98a4e69bc8b02aa4f51ed67",
            "value": "Dl Size...: 100%"
          }
        },
        "d225b0ac4ab5437485d8ba2ca90c8289": {
          "model_module": "@jupyter-widgets/controls",
          "model_name": "FloatProgressModel",
          "model_module_version": "1.5.0",
          "state": {
            "_dom_classes": [],
            "_model_module": "@jupyter-widgets/controls",
            "_model_module_version": "1.5.0",
            "_model_name": "FloatProgressModel",
            "_view_count": null,
            "_view_module": "@jupyter-widgets/controls",
            "_view_module_version": "1.5.0",
            "_view_name": "ProgressView",
            "bar_style": "success",
            "description": "",
            "description_tooltip": null,
            "layout": "IPY_MODEL_2e9cd71cd3b547e9a2c35dce810730d0",
            "max": 1,
            "min": 0,
            "orientation": "horizontal",
            "style": "IPY_MODEL_22044d29f5b043b2a18af93b09c05828",
            "value": 1
          }
        },
        "b2582c5a2a7a493eb02e7c2d5dadf1ba": {
          "model_module": "@jupyter-widgets/controls",
          "model_name": "HTMLModel",
          "model_module_version": "1.5.0",
          "state": {
            "_dom_classes": [],
            "_model_module": "@jupyter-widgets/controls",
            "_model_module_version": "1.5.0",
            "_model_name": "HTMLModel",
            "_view_count": null,
            "_view_module": "@jupyter-widgets/controls",
            "_view_module_version": "1.5.0",
            "_view_name": "HTMLView",
            "description": "",
            "description_tooltip": null,
            "layout": "IPY_MODEL_0c7874ca2ca04c1290dc109e4d80dd6b",
            "placeholder": "​",
            "style": "IPY_MODEL_26020596837e48df94bcd6e8d2fc0210",
            "value": " 1485/1485 [01:39&lt;00:00, 26.84 MiB/s]"
          }
        },
        "7a8714c1eb994fa0a308e98b8c263812": {
          "model_module": "@jupyter-widgets/base",
          "model_name": "LayoutModel",
          "model_module_version": "1.2.0",
          "state": {
            "_model_module": "@jupyter-widgets/base",
            "_model_module_version": "1.2.0",
            "_model_name": "LayoutModel",
            "_view_count": null,
            "_view_module": "@jupyter-widgets/base",
            "_view_module_version": "1.2.0",
            "_view_name": "LayoutView",
            "align_content": null,
            "align_items": null,
            "align_self": null,
            "border": null,
            "bottom": null,
            "display": null,
            "flex": null,
            "flex_flow": null,
            "grid_area": null,
            "grid_auto_columns": null,
            "grid_auto_flow": null,
            "grid_auto_rows": null,
            "grid_column": null,
            "grid_gap": null,
            "grid_row": null,
            "grid_template_areas": null,
            "grid_template_columns": null,
            "grid_template_rows": null,
            "height": null,
            "justify_content": null,
            "justify_items": null,
            "left": null,
            "margin": null,
            "max_height": null,
            "max_width": null,
            "min_height": null,
            "min_width": null,
            "object_fit": null,
            "object_position": null,
            "order": null,
            "overflow": null,
            "overflow_x": null,
            "overflow_y": null,
            "padding": null,
            "right": null,
            "top": null,
            "visibility": null,
            "width": null
          }
        },
        "13b99a4f08cd4e8d96b75ff33046ec93": {
          "model_module": "@jupyter-widgets/base",
          "model_name": "LayoutModel",
          "model_module_version": "1.2.0",
          "state": {
            "_model_module": "@jupyter-widgets/base",
            "_model_module_version": "1.2.0",
            "_model_name": "LayoutModel",
            "_view_count": null,
            "_view_module": "@jupyter-widgets/base",
            "_view_module_version": "1.2.0",
            "_view_name": "LayoutView",
            "align_content": null,
            "align_items": null,
            "align_self": null,
            "border": null,
            "bottom": null,
            "display": null,
            "flex": null,
            "flex_flow": null,
            "grid_area": null,
            "grid_auto_columns": null,
            "grid_auto_flow": null,
            "grid_auto_rows": null,
            "grid_column": null,
            "grid_gap": null,
            "grid_row": null,
            "grid_template_areas": null,
            "grid_template_columns": null,
            "grid_template_rows": null,
            "height": null,
            "justify_content": null,
            "justify_items": null,
            "left": null,
            "margin": null,
            "max_height": null,
            "max_width": null,
            "min_height": null,
            "min_width": null,
            "object_fit": null,
            "object_position": null,
            "order": null,
            "overflow": null,
            "overflow_x": null,
            "overflow_y": null,
            "padding": null,
            "right": null,
            "top": null,
            "visibility": null,
            "width": null
          }
        },
        "de67f7dff98a4e69bc8b02aa4f51ed67": {
          "model_module": "@jupyter-widgets/controls",
          "model_name": "DescriptionStyleModel",
          "model_module_version": "1.5.0",
          "state": {
            "_model_module": "@jupyter-widgets/controls",
            "_model_module_version": "1.5.0",
            "_model_name": "DescriptionStyleModel",
            "_view_count": null,
            "_view_module": "@jupyter-widgets/base",
            "_view_module_version": "1.2.0",
            "_view_name": "StyleView",
            "description_width": ""
          }
        },
        "2e9cd71cd3b547e9a2c35dce810730d0": {
          "model_module": "@jupyter-widgets/base",
          "model_name": "LayoutModel",
          "model_module_version": "1.2.0",
          "state": {
            "_model_module": "@jupyter-widgets/base",
            "_model_module_version": "1.2.0",
            "_model_name": "LayoutModel",
            "_view_count": null,
            "_view_module": "@jupyter-widgets/base",
            "_view_module_version": "1.2.0",
            "_view_name": "LayoutView",
            "align_content": null,
            "align_items": null,
            "align_self": null,
            "border": null,
            "bottom": null,
            "display": null,
            "flex": null,
            "flex_flow": null,
            "grid_area": null,
            "grid_auto_columns": null,
            "grid_auto_flow": null,
            "grid_auto_rows": null,
            "grid_column": null,
            "grid_gap": null,
            "grid_row": null,
            "grid_template_areas": null,
            "grid_template_columns": null,
            "grid_template_rows": null,
            "height": null,
            "justify_content": null,
            "justify_items": null,
            "left": null,
            "margin": null,
            "max_height": null,
            "max_width": null,
            "min_height": null,
            "min_width": null,
            "object_fit": null,
            "object_position": null,
            "order": null,
            "overflow": null,
            "overflow_x": null,
            "overflow_y": null,
            "padding": null,
            "right": null,
            "top": null,
            "visibility": null,
            "width": "20px"
          }
        },
        "22044d29f5b043b2a18af93b09c05828": {
          "model_module": "@jupyter-widgets/controls",
          "model_name": "ProgressStyleModel",
          "model_module_version": "1.5.0",
          "state": {
            "_model_module": "@jupyter-widgets/controls",
            "_model_module_version": "1.5.0",
            "_model_name": "ProgressStyleModel",
            "_view_count": null,
            "_view_module": "@jupyter-widgets/base",
            "_view_module_version": "1.2.0",
            "_view_name": "StyleView",
            "bar_color": null,
            "description_width": ""
          }
        },
        "0c7874ca2ca04c1290dc109e4d80dd6b": {
          "model_module": "@jupyter-widgets/base",
          "model_name": "LayoutModel",
          "model_module_version": "1.2.0",
          "state": {
            "_model_module": "@jupyter-widgets/base",
            "_model_module_version": "1.2.0",
            "_model_name": "LayoutModel",
            "_view_count": null,
            "_view_module": "@jupyter-widgets/base",
            "_view_module_version": "1.2.0",
            "_view_name": "LayoutView",
            "align_content": null,
            "align_items": null,
            "align_self": null,
            "border": null,
            "bottom": null,
            "display": null,
            "flex": null,
            "flex_flow": null,
            "grid_area": null,
            "grid_auto_columns": null,
            "grid_auto_flow": null,
            "grid_auto_rows": null,
            "grid_column": null,
            "grid_gap": null,
            "grid_row": null,
            "grid_template_areas": null,
            "grid_template_columns": null,
            "grid_template_rows": null,
            "height": null,
            "justify_content": null,
            "justify_items": null,
            "left": null,
            "margin": null,
            "max_height": null,
            "max_width": null,
            "min_height": null,
            "min_width": null,
            "object_fit": null,
            "object_position": null,
            "order": null,
            "overflow": null,
            "overflow_x": null,
            "overflow_y": null,
            "padding": null,
            "right": null,
            "top": null,
            "visibility": null,
            "width": null
          }
        },
        "26020596837e48df94bcd6e8d2fc0210": {
          "model_module": "@jupyter-widgets/controls",
          "model_name": "DescriptionStyleModel",
          "model_module_version": "1.5.0",
          "state": {
            "_model_module": "@jupyter-widgets/controls",
            "_model_module_version": "1.5.0",
            "_model_name": "DescriptionStyleModel",
            "_view_count": null,
            "_view_module": "@jupyter-widgets/base",
            "_view_module_version": "1.2.0",
            "_view_name": "StyleView",
            "description_width": ""
          }
        },
        "3753d9d8844e49abac2480cb2d67c5d9": {
          "model_module": "@jupyter-widgets/controls",
          "model_name": "HBoxModel",
          "model_module_version": "1.5.0",
          "state": {
            "_dom_classes": [],
            "_model_module": "@jupyter-widgets/controls",
            "_model_module_version": "1.5.0",
            "_model_name": "HBoxModel",
            "_view_count": null,
            "_view_module": "@jupyter-widgets/controls",
            "_view_module_version": "1.5.0",
            "_view_name": "HBoxView",
            "box_style": "",
            "children": [
              "IPY_MODEL_ce69a3c15294406b999f85413cc28e1e",
              "IPY_MODEL_ea2d6b3f73db41b69db7cf6b5bf10b9f",
              "IPY_MODEL_5a46804b632a48b3ba49a825a5aab1ea"
            ],
            "layout": "IPY_MODEL_32c3a04c8a194d659a489b08dea6dba6"
          }
        },
        "ce69a3c15294406b999f85413cc28e1e": {
          "model_module": "@jupyter-widgets/controls",
          "model_name": "HTMLModel",
          "model_module_version": "1.5.0",
          "state": {
            "_dom_classes": [],
            "_model_module": "@jupyter-widgets/controls",
            "_model_module_version": "1.5.0",
            "_model_name": "HTMLModel",
            "_view_count": null,
            "_view_module": "@jupyter-widgets/controls",
            "_view_module_version": "1.5.0",
            "_view_name": "HTMLView",
            "description": "",
            "description_tooltip": null,
            "layout": "IPY_MODEL_325daeeeaa2142f0b6ee96b2e119c5f1",
            "placeholder": "​",
            "style": "IPY_MODEL_6b3f73957c1643fc92017075e1f524ca",
            "value": "Extraction completed...:  91%"
          }
        },
        "ea2d6b3f73db41b69db7cf6b5bf10b9f": {
          "model_module": "@jupyter-widgets/controls",
          "model_name": "FloatProgressModel",
          "model_module_version": "1.5.0",
          "state": {
            "_dom_classes": [],
            "_model_module": "@jupyter-widgets/controls",
            "_model_module_version": "1.5.0",
            "_model_name": "FloatProgressModel",
            "_view_count": null,
            "_view_module": "@jupyter-widgets/controls",
            "_view_module_version": "1.5.0",
            "_view_name": "ProgressView",
            "bar_style": "success",
            "description": "",
            "description_tooltip": null,
            "layout": "IPY_MODEL_7bd5a600d3b5420ba56f8203f2d26a96",
            "max": 1,
            "min": 0,
            "orientation": "horizontal",
            "style": "IPY_MODEL_b6dff5ae54ce448c9562283eb48917b2",
            "value": 1
          }
        },
        "5a46804b632a48b3ba49a825a5aab1ea": {
          "model_module": "@jupyter-widgets/controls",
          "model_name": "HTMLModel",
          "model_module_version": "1.5.0",
          "state": {
            "_dom_classes": [],
            "_model_module": "@jupyter-widgets/controls",
            "_model_module_version": "1.5.0",
            "_model_name": "HTMLModel",
            "_view_count": null,
            "_view_module": "@jupyter-widgets/controls",
            "_view_module_version": "1.5.0",
            "_view_name": "HTMLView",
            "description": "",
            "description_tooltip": null,
            "layout": "IPY_MODEL_b6f1696eebd440778876bae55841b6fb",
            "placeholder": "​",
            "style": "IPY_MODEL_61ddb1b2779a4caca80a6fe7fbceb1c0",
            "value": " 12147/13395 [01:39&lt;00:01, 754.44 file/s]"
          }
        },
        "32c3a04c8a194d659a489b08dea6dba6": {
          "model_module": "@jupyter-widgets/base",
          "model_name": "LayoutModel",
          "model_module_version": "1.2.0",
          "state": {
            "_model_module": "@jupyter-widgets/base",
            "_model_module_version": "1.2.0",
            "_model_name": "LayoutModel",
            "_view_count": null,
            "_view_module": "@jupyter-widgets/base",
            "_view_module_version": "1.2.0",
            "_view_name": "LayoutView",
            "align_content": null,
            "align_items": null,
            "align_self": null,
            "border": null,
            "bottom": null,
            "display": null,
            "flex": null,
            "flex_flow": null,
            "grid_area": null,
            "grid_auto_columns": null,
            "grid_auto_flow": null,
            "grid_auto_rows": null,
            "grid_column": null,
            "grid_gap": null,
            "grid_row": null,
            "grid_template_areas": null,
            "grid_template_columns": null,
            "grid_template_rows": null,
            "height": null,
            "justify_content": null,
            "justify_items": null,
            "left": null,
            "margin": null,
            "max_height": null,
            "max_width": null,
            "min_height": null,
            "min_width": null,
            "object_fit": null,
            "object_position": null,
            "order": null,
            "overflow": null,
            "overflow_x": null,
            "overflow_y": null,
            "padding": null,
            "right": null,
            "top": null,
            "visibility": null,
            "width": null
          }
        },
        "325daeeeaa2142f0b6ee96b2e119c5f1": {
          "model_module": "@jupyter-widgets/base",
          "model_name": "LayoutModel",
          "model_module_version": "1.2.0",
          "state": {
            "_model_module": "@jupyter-widgets/base",
            "_model_module_version": "1.2.0",
            "_model_name": "LayoutModel",
            "_view_count": null,
            "_view_module": "@jupyter-widgets/base",
            "_view_module_version": "1.2.0",
            "_view_name": "LayoutView",
            "align_content": null,
            "align_items": null,
            "align_self": null,
            "border": null,
            "bottom": null,
            "display": null,
            "flex": null,
            "flex_flow": null,
            "grid_area": null,
            "grid_auto_columns": null,
            "grid_auto_flow": null,
            "grid_auto_rows": null,
            "grid_column": null,
            "grid_gap": null,
            "grid_row": null,
            "grid_template_areas": null,
            "grid_template_columns": null,
            "grid_template_rows": null,
            "height": null,
            "justify_content": null,
            "justify_items": null,
            "left": null,
            "margin": null,
            "max_height": null,
            "max_width": null,
            "min_height": null,
            "min_width": null,
            "object_fit": null,
            "object_position": null,
            "order": null,
            "overflow": null,
            "overflow_x": null,
            "overflow_y": null,
            "padding": null,
            "right": null,
            "top": null,
            "visibility": null,
            "width": null
          }
        },
        "6b3f73957c1643fc92017075e1f524ca": {
          "model_module": "@jupyter-widgets/controls",
          "model_name": "DescriptionStyleModel",
          "model_module_version": "1.5.0",
          "state": {
            "_model_module": "@jupyter-widgets/controls",
            "_model_module_version": "1.5.0",
            "_model_name": "DescriptionStyleModel",
            "_view_count": null,
            "_view_module": "@jupyter-widgets/base",
            "_view_module_version": "1.2.0",
            "_view_name": "StyleView",
            "description_width": ""
          }
        },
        "7bd5a600d3b5420ba56f8203f2d26a96": {
          "model_module": "@jupyter-widgets/base",
          "model_name": "LayoutModel",
          "model_module_version": "1.2.0",
          "state": {
            "_model_module": "@jupyter-widgets/base",
            "_model_module_version": "1.2.0",
            "_model_name": "LayoutModel",
            "_view_count": null,
            "_view_module": "@jupyter-widgets/base",
            "_view_module_version": "1.2.0",
            "_view_name": "LayoutView",
            "align_content": null,
            "align_items": null,
            "align_self": null,
            "border": null,
            "bottom": null,
            "display": null,
            "flex": null,
            "flex_flow": null,
            "grid_area": null,
            "grid_auto_columns": null,
            "grid_auto_flow": null,
            "grid_auto_rows": null,
            "grid_column": null,
            "grid_gap": null,
            "grid_row": null,
            "grid_template_areas": null,
            "grid_template_columns": null,
            "grid_template_rows": null,
            "height": null,
            "justify_content": null,
            "justify_items": null,
            "left": null,
            "margin": null,
            "max_height": null,
            "max_width": null,
            "min_height": null,
            "min_width": null,
            "object_fit": null,
            "object_position": null,
            "order": null,
            "overflow": null,
            "overflow_x": null,
            "overflow_y": null,
            "padding": null,
            "right": null,
            "top": null,
            "visibility": null,
            "width": "20px"
          }
        },
        "b6dff5ae54ce448c9562283eb48917b2": {
          "model_module": "@jupyter-widgets/controls",
          "model_name": "ProgressStyleModel",
          "model_module_version": "1.5.0",
          "state": {
            "_model_module": "@jupyter-widgets/controls",
            "_model_module_version": "1.5.0",
            "_model_name": "ProgressStyleModel",
            "_view_count": null,
            "_view_module": "@jupyter-widgets/base",
            "_view_module_version": "1.2.0",
            "_view_name": "StyleView",
            "bar_color": null,
            "description_width": ""
          }
        },
        "b6f1696eebd440778876bae55841b6fb": {
          "model_module": "@jupyter-widgets/base",
          "model_name": "LayoutModel",
          "model_module_version": "1.2.0",
          "state": {
            "_model_module": "@jupyter-widgets/base",
            "_model_module_version": "1.2.0",
            "_model_name": "LayoutModel",
            "_view_count": null,
            "_view_module": "@jupyter-widgets/base",
            "_view_module_version": "1.2.0",
            "_view_name": "LayoutView",
            "align_content": null,
            "align_items": null,
            "align_self": null,
            "border": null,
            "bottom": null,
            "display": null,
            "flex": null,
            "flex_flow": null,
            "grid_area": null,
            "grid_auto_columns": null,
            "grid_auto_flow": null,
            "grid_auto_rows": null,
            "grid_column": null,
            "grid_gap": null,
            "grid_row": null,
            "grid_template_areas": null,
            "grid_template_columns": null,
            "grid_template_rows": null,
            "height": null,
            "justify_content": null,
            "justify_items": null,
            "left": null,
            "margin": null,
            "max_height": null,
            "max_width": null,
            "min_height": null,
            "min_width": null,
            "object_fit": null,
            "object_position": null,
            "order": null,
            "overflow": null,
            "overflow_x": null,
            "overflow_y": null,
            "padding": null,
            "right": null,
            "top": null,
            "visibility": null,
            "width": null
          }
        },
        "61ddb1b2779a4caca80a6fe7fbceb1c0": {
          "model_module": "@jupyter-widgets/controls",
          "model_name": "DescriptionStyleModel",
          "model_module_version": "1.5.0",
          "state": {
            "_model_module": "@jupyter-widgets/controls",
            "_model_module_version": "1.5.0",
            "_model_name": "DescriptionStyleModel",
            "_view_count": null,
            "_view_module": "@jupyter-widgets/base",
            "_view_module_version": "1.2.0",
            "_view_name": "StyleView",
            "description_width": ""
          }
        }
      }
    }
  },
  "cells": [
    {
      "cell_type": "code",
      "execution_count": null,
      "metadata": {
        "id": "wUDBcfBmRSEY"
      },
      "outputs": [],
      "source": [
        "# Importing necessary libraries for deep learning, including TensorFlow, Keras (for model building),\n",
        "#pre-trained architectures (MobileNetV2, ResNet50), optimization (Adam), image preprocessing (ImageDataGenerator),\n",
        "#and callbacks (EarlyStopping), along with visualization (matplotlib) and TensorFlow Datasets (tfds) for loading datasets.\n",
        "\n",
        "from tensorflow import keras\n",
        "import tensorflow as tf\n",
        "import tensorflow_datasets as tfds\n",
        "from tensorflow.keras.applications import MobileNetV2\n",
        "from tensorflow.keras.layers import Dense, GlobalMaxPooling2D, GlobalAveragePooling2D, Dropout, BatchNormalization\n",
        "from tensorflow.keras.models import Model, Sequential\n",
        "from tensorflow.keras.applications import ResNet50\n",
        "\n",
        "from tensorflow.keras.optimizers import Adam\n",
        "from tensorflow.keras.preprocessing.image import ImageDataGenerator\n",
        "from tensorflow.keras.callbacks import EarlyStopping\n",
        "import numpy as np\n",
        "\n",
        "import matplotlib.pyplot as plt\n"
      ]
    },
    {
      "cell_type": "markdown",
      "source": [
        "This section of the code loads the Imagenette dataset, a subset of ImageNet designed for quick experimentation, using TensorFlow Datasets (tfds). It specifies the image size (IMG_SIZE = 32) and batch size (BATCH_SIZE = 32). The dataset is split into training and validation sets, and the as_supervised=True option ensures that the data is returned as (image, label) pairs for supervised learning tasks.\n",
        "\n",
        "\n",
        "\n",
        "\n",
        "\n",
        "\n"
      ],
      "metadata": {
        "id": "0nkJ_QFvEBB2"
      }
    },
    {
      "cell_type": "code",
      "source": [
        "# Load the Imagenette dataset\n",
        "IMG_SIZE = 32\n",
        "BATCH_SIZE = 32\n",
        "\n",
        "train_data, val_data = tfds.load(\n",
        "    \"imagenette/full-size-v2\",\n",
        "    split=[\"train\", \"validation\"],\n",
        "    as_supervised=True,\n",
        ")"
      ],
      "metadata": {
        "id": "Zpr5HjomRq6Q",
        "colab": {
          "base_uri": "https://localhost:8080/",
          "height": 151,
          "referenced_widgets": [
            "6062964183d24b8fb34cc58195cf505e",
            "6f6b0f598bcc4206911b5d48cd4bade8",
            "6ff96d784bcc4a6d975b18677e090513",
            "508faf007eff4669ba806951fcca3ff5",
            "be57f482a2a4434e82a1475760ee0b98",
            "f0530cabe5df45db9008092eaad57d33",
            "62a809809d2a416a896536271b00014f",
            "8840539e8cfe4e57922ef690c497343d",
            "651b55867ee34a848796425aeef248d4",
            "5391f3ff2e4045189c26cf99a282e809",
            "efbb57da12a048beb45005cd194da225",
            "c2695cfa642546b998dabcdbf3d42c54",
            "50417f7d62254686874ca786aadbac9e",
            "d225b0ac4ab5437485d8ba2ca90c8289",
            "b2582c5a2a7a493eb02e7c2d5dadf1ba",
            "7a8714c1eb994fa0a308e98b8c263812",
            "13b99a4f08cd4e8d96b75ff33046ec93",
            "de67f7dff98a4e69bc8b02aa4f51ed67",
            "2e9cd71cd3b547e9a2c35dce810730d0",
            "22044d29f5b043b2a18af93b09c05828",
            "0c7874ca2ca04c1290dc109e4d80dd6b",
            "26020596837e48df94bcd6e8d2fc0210",
            "3753d9d8844e49abac2480cb2d67c5d9",
            "ce69a3c15294406b999f85413cc28e1e",
            "ea2d6b3f73db41b69db7cf6b5bf10b9f",
            "5a46804b632a48b3ba49a825a5aab1ea",
            "32c3a04c8a194d659a489b08dea6dba6",
            "325daeeeaa2142f0b6ee96b2e119c5f1",
            "6b3f73957c1643fc92017075e1f524ca",
            "7bd5a600d3b5420ba56f8203f2d26a96",
            "b6dff5ae54ce448c9562283eb48917b2",
            "b6f1696eebd440778876bae55841b6fb",
            "61ddb1b2779a4caca80a6fe7fbceb1c0"
          ]
        },
        "outputId": "b1ce57f4-38a0-4c5f-a5e9-206fc4847a5f"
      },
      "execution_count": null,
      "outputs": [
        {
          "metadata": {
            "tags": null
          },
          "name": "stdout",
          "output_type": "stream",
          "text": [
            "Downloading and preparing dataset 1.45 GiB (download: 1.45 GiB, generated: 1.46 GiB, total: 2.91 GiB) to /root/tensorflow_datasets/imagenette/full-size-v2/1.0.0...\n"
          ]
        },
        {
          "data": {
            "application/vnd.jupyter.widget-view+json": {
              "model_id": "6062964183d24b8fb34cc58195cf505e",
              "version_major": 2,
              "version_minor": 0
            },
            "text/plain": [
              "Dl Completed...: 0 url [00:00, ? url/s]"
            ]
          },
          "metadata": {},
          "output_type": "display_data"
        },
        {
          "data": {
            "application/vnd.jupyter.widget-view+json": {
              "model_id": "c2695cfa642546b998dabcdbf3d42c54",
              "version_major": 2,
              "version_minor": 0
            },
            "text/plain": [
              "Dl Size...: 0 MiB [00:00, ? MiB/s]"
            ]
          },
          "metadata": {},
          "output_type": "display_data"
        },
        {
          "data": {
            "application/vnd.jupyter.widget-view+json": {
              "model_id": "3753d9d8844e49abac2480cb2d67c5d9",
              "version_major": 2,
              "version_minor": 0
            },
            "text/plain": [
              "Extraction completed...: 0 file [00:00, ? file/s]"
            ]
          },
          "metadata": {},
          "output_type": "display_data"
        }
      ]
    },
    {
      "cell_type": "markdown",
      "source": [
        "This section of the code loads the CIFAR-10 dataset, a collection of 60,000 32x32 color images across 10 classes, using Keras's built-in dataset loader. The training and testing images are normalized by dividing pixel values by 255.0 to scale them to a range of [0, 1] for easier training. Images are resized to 32x32 pixels using TensorFlow's resize method to ensure consistency. Labels for both training and testing sets are converted into one-hot encoded vectors using Keras's to_categorical function to prepare them for multi-class classification.\n",
        "\n",
        "\n"
      ],
      "metadata": {
        "id": "08b6ffdgEH6M"
      }
    },
    {
      "cell_type": "code",
      "source": [
        "(x_train, y_train), (x_test, y_test) = tf.keras.datasets.cifar10.load_data()\n",
        "\n",
        "x_train = x_train / 255.0\n",
        "x_test = x_test / 255.0\n",
        "\n",
        "x_train_resized = np.array([tf.image.resize(img, [32, 32]).numpy() for img in x_train])\n",
        "x_test_resized = np.array([tf.image.resize(img, [32, 32]).numpy() for img in x_test])\n",
        "\n",
        "y_train = tf.keras.utils.to_categorical(y_train, 10)\n",
        "y_test = tf.keras.utils.to_categorical(y_test, 10)"
      ],
      "metadata": {
        "id": "rZLLzB5WqM-W"
      },
      "execution_count": null,
      "outputs": []
    },
    {
      "cell_type": "markdown",
      "source": [
        "This section defines data augmentation strategies for training and testing datasets using Keras's ImageDataGenerator.\n",
        "\n",
        "train_datagen: Applies augmentation techniques such as random rotations (up to 20 degrees), horizontal shifts (width_shift_range=0.2), vertical shifts (height_shift_range=0.2), and horizontal flipping to artificially increase the diversity of the training dataset and reduce overfitting.\n",
        "\n",
        "test_datagen: Provides a simple generator for the test dataset without augmentation, ensuring that test images remain unchanged for accurate evaluation."
      ],
      "metadata": {
        "id": "JfDmV2anEOQU"
      }
    },
    {
      "cell_type": "code",
      "source": [
        "train_datagen = ImageDataGenerator(\n",
        "    rotation_range=20,\n",
        "    width_shift_range=0.2,\n",
        "    height_shift_range=0.2,\n",
        "    horizontal_flip=True\n",
        ")\n",
        "\n",
        "test_datagen = ImageDataGenerator()"
      ],
      "metadata": {
        "id": "vUTKb-DhqPLu"
      },
      "execution_count": null,
      "outputs": []
    },
    {
      "cell_type": "markdown",
      "source": [
        "This section creates data generators for the training and testing datasets using the ImageDataGenerator objects defined earlier:\n",
        "\n",
        "train_generator: Generates batches of augmented training data (x_train_resized and y_train) with a batch size of 32. The augmentation is applied on the fly to enhance the diversity of the training data.\n",
        "\n",
        "test_generator: Generates batches of test data (x_test_resized and y_test) with a batch size of 32. No augmentation is applied to the test data, ensuring that the evaluation is performed on unaltered samples."
      ],
      "metadata": {
        "id": "vYfiuwTSEUnu"
      }
    },
    {
      "cell_type": "code",
      "source": [
        "train_generator = train_datagen.flow(x_train_resized, y_train, batch_size=32)\n",
        "test_generator = test_datagen.flow(x_test_resized, y_test, batch_size=32)"
      ],
      "metadata": {
        "id": "pJgocNybqQnq"
      },
      "execution_count": null,
      "outputs": []
    },
    {
      "cell_type": "markdown",
      "source": [
        "This section initializes a MobileNetV2 model pre-trained on the ImageNet dataset as the base model for transfer learning:\n",
        "\n",
        "MobileNetV2(weights=\"imagenet\", include_top=False, input_shape=(32, 32, 3)): Loads MobileNetV2 without its top classification layers (include_top=False) and specifies the input shape as (32, 32, 3) for the CIFAR-10 dataset's image size and RGB channels.\n",
        "\n",
        "base_model.trainable = True: Makes the base model trainable, allowing fine-tuning of its weights.\n",
        "\n",
        "for layer in base_model.layers[:-20]: layer.trainable = False: Freezes all layers except the last 20, which are left trainable. This strategy helps retain the pre-trained features in earlier layers while enabling fine-tuning of deeper layers to adapt to the new dataset."
      ],
      "metadata": {
        "id": "bBA3Hi6IEXil"
      }
    },
    {
      "cell_type": "code",
      "source": [
        "base_model = MobileNetV2(weights=\"imagenet\", include_top=False, input_shape=(32, 32, 3))\n",
        "\n",
        "base_model.trainable = True\n",
        "for layer in base_model.layers[:-20]:\n",
        "    layer.trainable = False"
      ],
      "metadata": {
        "id": "rmnvWMleqSQ3"
      },
      "execution_count": null,
      "outputs": []
    },
    {
      "cell_type": "markdown",
      "source": [
        "This section defines a sequential model for image classification using the pre-trained MobileNetV2 as the backbone, with additional custom layers for fine-tuning and classification:\n",
        "\n",
        "base_model: The pre-trained MobileNetV2 model serves as the feature extractor, providing powerful pre-trained representations for images.\n",
        "\n",
        "GlobalAveragePooling2D(): Reduces the spatial dimensions of the feature maps from the base model by computing the average of each feature map, effectively summarizing the learned features.\n",
        "\n",
        "Dense(128, activation=\"relu\", kernel_regularizer=tf.keras.regularizers.l2(0.01)): Adds a fully connected layer with 128 neurons, ReLU activation, and L2 regularization to reduce overfitting.\n",
        "\n",
        "BatchNormalization(): Normalizes the layer's activations, stabilizing and accelerating training.\n",
        "\n",
        "Dropout(0.5): Randomly drops 50% of neurons during training to reduce overfitting and improve generalization.\n",
        "\n",
        "Dense(10, activation=\"softmax\"): The final output layer with 10 neurons (one for each class in CIFAR-10) and a softmax activation function for multi-class probability predictions."
      ],
      "metadata": {
        "id": "QscR3JkDEgkC"
      }
    },
    {
      "cell_type": "code",
      "source": [
        "model = Sequential([\n",
        "    base_model,\n",
        "    GlobalAveragePooling2D(),\n",
        "    Dense(128, activation=\"relu\", kernel_regularizer=tf.keras.regularizers.l2(0.01)),\n",
        "    BatchNormalization(),\n",
        "    Dropout(0.5),\n",
        "    Dense(10, activation=\"softmax\")\n",
        "])"
      ],
      "metadata": {
        "id": "SQ12Pn8pqTOH"
      },
      "execution_count": null,
      "outputs": []
    },
    {
      "cell_type": "markdown",
      "source": [
        "This section compiles and trains the model with specified parameters and includes an early stopping mechanism to optimize training:\n",
        "\n",
        "model.compile(): Configures the model for training.\n",
        "\n",
        "optimizer=Adam(learning_rate=1e-5): Uses the Adam optimizer with a small learning rate (1e-5) for fine-tuning.\n",
        "loss=\"categorical_crossentropy\": Specifies the loss function for multi-class classification.\n",
        "metrics=[\"accuracy\"]: Tracks accuracy as the evaluation metric during training.\n",
        "early_stopping: Implements early stopping to prevent overfitting and reduce unnecessary computation.\n",
        "\n",
        "monitor=\"val_loss\": Monitors the validation loss to decide when to stop training.\n",
        "patience=5: Stops training if the validation loss doesn't improve for 5 consecutive epochs.\n",
        "restore_best_weights=True: Restores the model weights to the best state observed during training.\n",
        "model.fit(): Trains the model using the data generators.\n",
        "\n",
        "train_generator: Supplies augmented training data.\n",
        "validation_data=test_generator: Supplies testing data for validation during training.\n",
        "epochs=50: Specifies a maximum of 50 training epochs.\n",
        "callbacks=[early_stopping]: Includes the early stopping mechanism to terminate training early if needed.\n",
        "The model will train on the data while monitoring validation loss, and training will stop automatically if no improvement is observed, ensuring efficient use of resources."
      ],
      "metadata": {
        "id": "nmhT4wHtEpem"
      }
    },
    {
      "cell_type": "code",
      "source": [
        "model.compile(optimizer=Adam(learning_rate=1e-5), loss=\"categorical_crossentropy\", metrics=[\"accuracy\"])\n",
        "\n",
        "early_stopping = EarlyStopping(monitor=\"val_loss\", patience=5, restore_best_weights=True)\n",
        "\n",
        "history = model.fit(\n",
        "    train_generator,\n",
        "    validation_data=test_generator,\n",
        "    epochs=50,\n",
        "    callbacks=[early_stopping]\n",
        ")\n",
        "\n"
      ],
      "metadata": {
        "id": "uCkEFMLWqYII"
      },
      "execution_count": null,
      "outputs": []
    },
    {
      "cell_type": "markdown",
      "source": [
        "This code plots the training and validation accuracy over epochs to visualize the model's performance. It helps identify trends such as improvements in accuracy, convergence, or potential overfitting, where the validation accuracy plateaus or diverges from training accuracy. The graph provides a clear comparison of how the model performs on both the training and validation datasets across the training process."
      ],
      "metadata": {
        "id": "20qTsXqwFbJO"
      }
    },
    {
      "cell_type": "code",
      "source": [
        "plt.plot(history.history['accuracy'], label='Training Accuracy')\n",
        "plt.plot(history.history['val_accuracy'], label='Validation Accuracy')\n",
        "plt.xlabel('Epochs')\n",
        "plt.ylabel('Accuracy')\n",
        "plt.legend()\n",
        "plt.title('Training vs Validation Accuracy')\n",
        "plt.show()\n"
      ],
      "metadata": {
        "colab": {
          "base_uri": "https://localhost:8080/",
          "height": 472
        },
        "id": "JD_pUMxmqhFJ",
        "outputId": "f6c9bb42-5de1-4f0f-d5fc-bc9bdff1e8b6"
      },
      "execution_count": null,
      "outputs": [
        {
          "output_type": "display_data",
          "data": {
            "text/plain": [
              "<Figure size 640x480 with 1 Axes>"
            ],
            "image/png": "[encoded data removed]"
          },
          "metadata": {}
        }
      ]
    },
    {
      "cell_type": "code",
      "source": [],
      "metadata": {
        "id": "yitblZecECg2"
      },
      "execution_count": null,
      "outputs": []
    },
    {
      "cell_type": "markdown",
      "source": [
        "This section evaluates the trained model's performance on the test dataset:\n",
        "\n",
        "model.evaluate(test_generator, verbose=2):\n",
        "\n",
        "Evaluates the model using the test data provided by test_generator.\n",
        "Computes both the test loss (test_loss) and the test accuracy (test_acc).\n",
        "The verbose=2 parameter displays progress messages, summarizing the evaluation results.\n",
        "print(f\"Test Accuracy: {test_acc:.2f}\"):\n",
        "\n",
        "Prints the test accuracy as a percentage formatted to two decimal places.\n",
        "\n",
        "The model processed 313 batches in 2 seconds, taking 5 milliseconds per step.\n",
        "Achieved a test accuracy of 60.44% and a test loss of 1.4358.\n",
        "\n",
        "The printed accuracy rounds the value to two decimal places (60%).\n",
        "\n",
        "This indicates the model has moderate performance on the test dataset, with room for improvement in accuracy and loss reduction.\n",
        "\n",
        "\n",
        "\n",
        "\n",
        "\n",
        "\n"
      ],
      "metadata": {
        "id": "rhQediIYFGGG"
      }
    },
    {
      "cell_type": "code",
      "source": [
        "test_loss, test_acc = model.evaluate(test_generator, verbose=2)\n",
        "print(f\"Test Accuracy: {test_acc:.2f}\")"
      ],
      "metadata": {
        "colab": {
          "base_uri": "https://localhost:8080/"
        },
        "id": "PURbUPq0qkMA",
        "outputId": "989b6717-fd67-4576-b643-45b4405e7945"
      },
      "execution_count": null,
      "outputs": [
        {
          "output_type": "stream",
          "name": "stdout",
          "text": [
            "313/313 - 2s - 5ms/step - accuracy: 0.6044 - loss: 1.4358\n",
            "Test Accuracy: 0.60\n"
          ]
        }
      ]
    }
  ]
}